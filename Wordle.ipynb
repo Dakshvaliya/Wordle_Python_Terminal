{
  "nbformat": 4,
  "nbformat_minor": 0,
  "metadata": {
    "colab": {
      "provenance": [],
      "authorship_tag": "ABX9TyMIibfGxet/yAU1pWd9podX",
      "include_colab_link": true
    },
    "kernelspec": {
      "name": "python3",
      "display_name": "Python 3"
    },
    "language_info": {
      "name": "python"
    }
  },
  "cells": [
    {
      "cell_type": "markdown",
      "metadata": {
        "id": "view-in-github",
        "colab_type": "text"
      },
      "source": [
        "<a href=\"https://colab.research.google.com/github/Dakshvaliya/Wordle_Python_Terminal/blob/main/Wordle.ipynb\" target=\"_parent\"><img src=\"https://colab.research.google.com/assets/colab-badge.svg\" alt=\"Open In Colab\"/></a>"
      ]
    },
    {
      "cell_type": "code",
      "execution_count": null,
      "metadata": {
        "id": "HM-RzPyhzdSJ"
      },
      "outputs": [],
      "source": [
        "import random\n",
        "\n",
        "def choose_word():\n",
        "    \"\"\"Pick a random word.\"\"\"\n",
        "    words = [\"apple\", \"baker\", \"chair\", \"dance\", \"early\", \"fable\", \"gamer\", \"happy\", \"igloo\", \"jumbo\",\n",
        "             \"kiosk\", \"lemon\", \"magic\", \"noble\", \"ocean\", \"piano\", \"quick\", \"rider\", \"sable\", \"table\",\n",
        "             \"uncle\", \"video\", \"waltz\", \"xenon\", \"yacht\", \"zebra\"]\n",
        "    return random.choice(words).upper()\n",
        "\n",
        "def get_guess():\n",
        "    \"\"\"Get and check user's guess.\"\"\"\n",
        "    while True:\n",
        "        guess = input(\"Guess the 5-letter word (or exit): \").upper()\n",
        "        if guess == \"EXIT\":\n",
        "            return \"\"\n",
        "        if len(guess) != 5:\n",
        "            print(\"Must be 5 letters.\")\n",
        "        elif not guess.isalpha():\n",
        "            print(\"Only letters.\")\n",
        "        else:\n",
        "            return guess\n",
        "\n",
        "def check_guess(secret_word, guess):\n",
        "    \"\"\"Check guess and give feedback.\"\"\"\n",
        "    result = []\n",
        "    for i, letter in enumerate(guess):\n",
        "        if letter == secret_word[i]:\n",
        "            result.append((letter, 'G'))  # Green\n",
        "        elif letter in secret_word:\n",
        "            result.append((letter, 'Y'))  # Yellow\n",
        "        else:\n",
        "            result.append((letter, 'B'))  # Black\n",
        "    return result\n",
        "\n",
        "def display_feedback(feedback):\n",
        "    \"\"\"Show feedback to user.\"\"\"\n",
        "    for letter, status in feedback:\n",
        "        if status == 'G':\n",
        "            print(f\"\\033[92m{letter}\\033[0m\", end=\"\")\n",
        "        elif status == 'Y':\n",
        "            print(f\"\\033[93m{letter}\\033[0m\", end=\"\")\n",
        "        else:\n",
        "            print(f\"\\033[90m{letter}\\033[0m\", end=\"\")\n",
        "    print()\n",
        "\n",
        "def play_wordle():\n",
        "    \"\"\"Play the game.\"\"\"\n",
        "    secret_word = choose_word()\n",
        "    print(\"Welcome to Wordle!\")\n",
        "    print(\"Guess the word in 6 tries.\")\n",
        "\n",
        "    for attempt in range(1, 7):\n",
        "        guess = get_guess()\n",
        "        if guess == \"\":\n",
        "            print(\"Exiting. Word was\", secret_word)\n",
        "            return\n",
        "\n",
        "        feedback = check_guess(secret_word, guess)\n",
        "        display_feedback(feedback)\n",
        "\n",
        "        if all(status == 'G' for _, status in feedback):\n",
        "            print(f\"You won in {attempt} tries!\")\n",
        "            return\n",
        "\n",
        "        print(f\"Try {attempt}/6\")\n",
        "\n",
        "    print(f\"You lost. The word was {secret_word}.\")\n",
        "\n",
        "if __name__ == \"__main__\":\n",
        "    play_wordle()\n"
      ]
    }
  ]
}